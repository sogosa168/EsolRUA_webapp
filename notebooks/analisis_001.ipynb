{
 "cells": [
  {
   "cell_type": "markdown",
   "metadata": {},
   "source": []
  },
  {
   "cell_type": "markdown",
   "metadata": {},
   "source": [
    "En este notebook se realiza el tronco del análisis de la información utilizando estadística, funciones de correlación y sintetización de los datos para presentar resultados sintetizados que puedan utilizarse en la web app (main.py)"
   ]
  }
 ],
 "metadata": {
  "language_info": {
   "name": "python"
  }
 },
 "nbformat": 4,
 "nbformat_minor": 2
}
