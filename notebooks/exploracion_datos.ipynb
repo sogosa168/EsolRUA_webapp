{
 "cells": [
  {
   "cell_type": "markdown",
   "metadata": {},
   "source": [
    "Este notebook realiza una inspección inicial de los datos, verificando su formato, contenido, información faltante, estadísticas básicas y prepara los datos para un consecuente  proceso de análisis."
   ]
  }
 ],
 "metadata": {
  "language_info": {
   "name": "python"
  }
 },
 "nbformat": 4,
 "nbformat_minor": 2
}
